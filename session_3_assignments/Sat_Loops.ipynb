{
 "cells": [
  {
   "cell_type": "markdown",
   "metadata": {},
   "source": [
    "# Exercises"
   ]
  },
  {
   "cell_type": "markdown",
   "metadata": {},
   "source": [
    "## Question 1"
   ]
  },
  {
   "cell_type": "markdown",
   "metadata": {},
   "source": [
    "**Predict the Output.**"
   ]
  },
  {
   "cell_type": "code",
   "execution_count": null,
   "metadata": {},
   "outputs": [],
   "source": [
    "for i in [1, 2, 3, 4, 5]:\n",
    "    print (\"hello\")"
   ]
  },
  {
   "cell_type": "code",
   "execution_count": null,
   "metadata": {},
   "outputs": [],
   "source": [
    "# hello\n",
    "# hello\n",
    "# hello\n",
    "# hello\n",
    "# hello"
   ]
  },
  {
   "cell_type": "markdown",
   "metadata": {},
   "source": [
    "## Question 2"
   ]
  },
  {
   "cell_type": "markdown",
   "metadata": {},
   "source": [
    "**Predict the Output.**"
   ]
  },
  {
   "cell_type": "code",
   "execution_count": null,
   "metadata": {},
   "outputs": [],
   "source": [
    "for i in [1, 2, 3, 4, 5]:\n",
    "    print (i)"
   ]
  },
  {
   "cell_type": "code",
   "execution_count": null,
   "metadata": {},
   "outputs": [],
   "source": [
    "# 1\n",
    "# 2\n",
    "# 3\n",
    "# 4\n",
    "# 5"
   ]
  },
  {
   "cell_type": "markdown",
   "metadata": {},
   "source": [
    "## Question 3"
   ]
  },
  {
   "cell_type": "markdown",
   "metadata": {},
   "source": [
    "**Predict the Output.**"
   ]
  },
  {
   "cell_type": "code",
   "execution_count": null,
   "metadata": {},
   "outputs": [],
   "source": [
    "for looper in [1, 2, 3, 4, 5]:\n",
    "    print (looper, \"times 8 =\", looper * 8)"
   ]
  },
  {
   "cell_type": "code",
   "execution_count": null,
   "metadata": {},
   "outputs": [],
   "source": [
    "# 1 times 8 = 8\n",
    "# 2 times 8 = 16\n",
    "# 3 times 8 = 24\n",
    "# 4 times 8 = 32\n",
    "# 5 times 8 = 40"
   ]
  },
  {
   "cell_type": "markdown",
   "metadata": {},
   "source": [
    "## Question 4"
   ]
  },
  {
   "cell_type": "markdown",
   "metadata": {},
   "source": [
    "**Predict the Output.**"
   ]
  },
  {
   "cell_type": "code",
   "execution_count": 1,
   "metadata": {
    "scrolled": true
   },
   "outputs": [
    {
     "output_type": "stream",
     "name": "stdout",
     "text": [
      "5\n",
      "4\n",
      "3\n",
      "2\n",
      "1\n",
      "BLAST OFF!\n"
     ]
    }
   ],
   "source": [
    "import time\n",
    "for i in range (5, 0, -1):         #Counts backward. \n",
    "                                     #Range ([start], [stop], [ step])\n",
    "                                    #start: Starting number of the sequence.\n",
    "                                    #stop: Generate numbers up to, but not including this number.\n",
    "                                    #step: Difference between each number in the sequence.\n",
    "    print (i)\n",
    "    time.sleep(1)                   #Waits one second\n",
    "print (\"BLAST OFF!\")"
   ]
  },
  {
   "cell_type": "code",
   "execution_count": 3,
   "metadata": {},
   "outputs": [],
   "source": [
    "# 5\n",
    "# 4 \n",
    "# 3\n",
    "# 2\n",
    "# 1\n",
    "# BLAST OFF!\n"
   ]
  },
  {
   "cell_type": "markdown",
   "metadata": {},
   "source": [
    "## Question 5"
   ]
  },
  {
   "cell_type": "markdown",
   "metadata": {},
   "source": [
    "**Predict the Output.**"
   ]
  },
  {
   "cell_type": "code",
   "execution_count": 4,
   "metadata": {
    "scrolled": true
   },
   "outputs": [
    {
     "output_type": "stream",
     "name": "stdout",
     "text": [
      "Hi, Warren\nHi, Warren\nHi, Warren\n"
     ]
    }
   ],
   "source": [
    "for i in range(1, 6, 2):\n",
    "    print ('Hi, Warren')"
   ]
  },
  {
   "cell_type": "code",
   "execution_count": null,
   "metadata": {},
   "outputs": [],
   "source": [
    "# Hi, Warren\n",
    "# Hi, Warren\n",
    "# Hi, Warren"
   ]
  },
  {
   "cell_type": "markdown",
   "metadata": {},
   "source": [
    "## Question 6"
   ]
  },
  {
   "cell_type": "markdown",
   "metadata": {},
   "source": [
    "**Fill in the blank such that program prints \"Hello! How are you\" 5 times but 3rd time it prints only \"Hello!\"**"
   ]
  },
  {
   "cell_type": "code",
   "execution_count": 5,
   "metadata": {},
   "outputs": [
    {
     "output_type": "stream",
     "name": "stdout",
     "text": [
      "i = 0\nHello! How are you\ni = 1\nHello! How are you\ni = 2\nHello! \ni = 3\nHello! How are you\ni = 4\nHello! How are you\ni = 5\nHello! How are you\n"
     ]
    }
   ],
   "source": [
    "\n",
    "for i in range (6):\n",
    "    print ('i =', i) \n",
    "    print ('Hello!', end = \" \")   # Note: end = '' appends space instead of new line\n",
    "    if i == 2: \n",
    "        print()\n",
    "        continue \n",
    "    print ('How are you')"
   ]
  },
  {
   "cell_type": "code",
   "execution_count": null,
   "metadata": {},
   "outputs": [],
   "source": [
    "# if i == 2"
   ]
  },
  {
   "cell_type": "markdown",
   "metadata": {},
   "source": [
    "## Question 7"
   ]
  },
  {
   "cell_type": "markdown",
   "metadata": {},
   "source": [
    "11. What does the following for loop output?\n"
   ]
  },
  {
   "cell_type": "code",
   "execution_count": 6,
   "metadata": {
    "scrolled": true
   },
   "outputs": [
    {
     "output_type": "stream",
     "name": "stdout",
     "text": [
      "30\n20\n40\n"
     ]
    }
   ],
   "source": [
    "nums = [10, 30, 20, 40]\n",
    "\n",
    "for k in range(1, 4):    # range(1,4) refers to [1,2,3]   --> k = 1, k = 2, k = 3\n",
    "    print(nums[k])       # print nums[1], nums[2], nums[3]"
   ]
  },
  {
   "cell_type": "markdown",
   "metadata": {},
   "source": [
    "   \n",
    "            (a) 10 (b) 30 (c) 10\n",
    "                30     20     30\n",
    "                20     40     20\n",
    "                              40    "
   ]
  },
  {
   "cell_type": "code",
   "execution_count": null,
   "metadata": {},
   "outputs": [],
   "source": [
    "# ANSWER IS (b)"
   ]
  },
  {
   "cell_type": "markdown",
   "metadata": {},
   "source": [
    "## Question 8"
   ]
  },
  {
   "cell_type": "markdown",
   "metadata": {},
   "source": [
    "**Write a python program to 1) ask the user the length of password and 2) generate a password randomly of given length.**"
   ]
  },
  {
   "cell_type": "markdown",
   "metadata": {},
   "source": [
    "**Step 1 import library \"random\"**"
   ]
  },
  {
   "cell_type": "code",
   "execution_count": 20,
   "metadata": {},
   "outputs": [
    {
     "output_type": "stream",
     "name": "stdout",
     "text": [
      "ir^ohl3x5e\n"
     ]
    }
   ],
   "source": [
    "#import library random\n",
    "import random\n",
    "random.choice('ri39fk')\n",
    "passwordLength = int(input('What is your desired password length?'))\n",
    "password = ''\n",
    "for x in range(passwordLength):\n",
    "    password += random.choice('0123456789qwertyuioplkjhgfdsamnbvcxz!@#$%^&*')\n",
    "print(password)"
   ]
  },
  {
   "cell_type": "markdown",
   "metadata": {},
   "source": [
    "## Question 10 "
   ]
  },
  {
   "cell_type": "markdown",
   "metadata": {},
   "source": [
    "**What is the output of this code if input my_input = 0? What is the output if my_input=5?**"
   ]
  },
  {
   "cell_type": "code",
   "execution_count": 21,
   "metadata": {},
   "outputs": [
    {
     "output_type": "stream",
     "name": "stdout",
     "text": [
      "looping\n"
     ]
    },
    {
     "output_type": "error",
     "ename": "ValueError",
     "evalue": "invalid literal for int() with base 10: ''",
     "traceback": [
      "\u001b[1;31m---------------------------------------------------------------------------\u001b[0m",
      "\u001b[1;31mValueError\u001b[0m                                Traceback (most recent call last)",
      "\u001b[1;32m<ipython-input-21-cb7d4d6aae04>\u001b[0m in \u001b[0;36m<module>\u001b[1;34m\u001b[0m\n\u001b[0;32m      2\u001b[0m \u001b[1;33m\u001b[0m\u001b[0m\n\u001b[0;32m      3\u001b[0m \u001b[1;32mwhile\u001b[0m \u001b[0ma\u001b[0m \u001b[1;33m<=\u001b[0m \u001b[1;36m3\u001b[0m\u001b[1;33m:\u001b[0m\u001b[1;33m\u001b[0m\u001b[1;33m\u001b[0m\u001b[0m\n\u001b[1;32m----> 4\u001b[1;33m     \u001b[0mmy_input\u001b[0m \u001b[1;33m=\u001b[0m \u001b[0mint\u001b[0m \u001b[1;33m(\u001b[0m\u001b[0minput\u001b[0m \u001b[1;33m(\u001b[0m\u001b[1;34m\"enter a no: \"\u001b[0m\u001b[1;33m)\u001b[0m\u001b[1;33m)\u001b[0m\u001b[1;33m\u001b[0m\u001b[1;33m\u001b[0m\u001b[0m\n\u001b[0m\u001b[0;32m      5\u001b[0m     \u001b[1;32mif\u001b[0m \u001b[0mmy_input\u001b[0m \u001b[1;33m==\u001b[0m \u001b[1;36m0\u001b[0m\u001b[1;33m:\u001b[0m\u001b[1;33m\u001b[0m\u001b[1;33m\u001b[0m\u001b[0m\n\u001b[0;32m      6\u001b[0m         \u001b[0mprint\u001b[0m \u001b[1;33m(\u001b[0m\u001b[1;34m\"your input is 0\"\u001b[0m\u001b[1;33m)\u001b[0m\u001b[1;33m\u001b[0m\u001b[1;33m\u001b[0m\u001b[0m\n",
      "\u001b[1;31mValueError\u001b[0m: invalid literal for int() with base 10: ''"
     ]
    }
   ],
   "source": [
    "a = 1\n",
    "\n",
    "while a <= 3:\n",
    "    my_input = int (input (\"enter a no: \"))\n",
    "    if my_input == 0:\n",
    "        print (\"your input is 0\")\n",
    "        break\n",
    "    a+=1\n",
    "    print (\"looping\")\n",
    "\n",
    "print('thank you')\n",
    "\n"
   ]
  },
  {
   "cell_type": "code",
   "execution_count": null,
   "metadata": {},
   "outputs": [],
   "source": [
    "# What is the output of this code if input my_input = 0?\n",
    "\n",
    "# outputs: \n",
    "\n",
    "# prints 'your input is 0' when my_input = 0 \n",
    "# will keep looping for input from user until my_input is more than 0 \n",
    "# when my_input <= 3 but not equal to 0, it will print looping, while adding +1 to a. \n",
    "# when my_input is <=3 but not equal to 0 for 2 times, it will stop looping and print thank you\n",
    "\n",
    "\n"
   ]
  },
  {
   "cell_type": "markdown",
   "metadata": {},
   "source": [
    "## Question 11"
   ]
  },
  {
   "cell_type": "markdown",
   "metadata": {},
   "source": [
    "**Write a Python program to count the elements in a list before it first hits a tuple.**"
   ]
  },
  {
   "cell_type": "code",
   "execution_count": 27,
   "metadata": {},
   "outputs": [
    {
     "output_type": "stream",
     "name": "stdout",
     "text": [
      "A tuple is blocking the way.\nThere are 2 elements before encountering tuple.\n"
     ]
    }
   ],
   "source": [
    "number = [10,20,(1,2),40]\n",
    "\n",
    "counter = 0\n",
    "\n",
    "# for loop \n",
    "for x in number:\n",
    "    if type(x) != tuple: \n",
    "        counter += 1\n",
    "    else:\n",
    "        print('A tuple is blocking the way.')\n",
    "        break\n",
    "print('There are', counter, 'elements before encountering tuple.')\n"
   ]
  },
  {
   "cell_type": "markdown",
   "metadata": {},
   "source": [
    "## Question 12 - a revisit!"
   ]
  },
  {
   "cell_type": "markdown",
   "metadata": {},
   "source": [
    "A king played chess with his subject and his subject won. He asked the subject what he wanted in return. <br> \n",
    "The subject, being clever, asked for one grain of wheat on the first square, two grains of wheat on the second square, four grains of wheat on the third square, and so forth, doubling the amount on each next square. \n",
    "\n",
    "**Calculate how much wheat the last square would be in kg. There are 64 squares in a chess board. A grain of wheat weighs approximately $1/7,000$ of a kg.**"
   ]
  },
  {
   "cell_type": "code",
   "execution_count": 1,
   "metadata": {},
   "outputs": [
    {
     "name": "stdout",
     "output_type": "stream",
     "text": [
      "Total grain weight in kg:  1317624576693539.5\n"
     ]
    }
   ],
   "source": [
    "# first square = 1         --> 2**0\n",
    "# second square = 2        --> 2**1\n",
    "# third square = 2*2 = 4   --> 2**2\n",
    "# fourth square = 2*2*2 = 8 --> 2**3 .......\n",
    "\n",
    "total_grains=2**63\n",
    "total_weight =total_grains/7000\n",
    "print (\"Total grain weight in kg: \", total_weight)\n"
   ]
  },
  {
   "cell_type": "markdown",
   "metadata": {},
   "source": [
    "**Now, using your knowledge in loops how do you calculate total grains?**"
   ]
  },
  {
   "cell_type": "code",
   "execution_count": 32,
   "metadata": {},
   "outputs": [
    {
     "output_type": "stream",
     "name": "stdout",
     "text": [
      "18446744073709551615\n"
     ]
    }
   ],
   "source": [
    "totalGrains = 0\n",
    "for x in range(64):\n",
    "    totalGrains += 2**x\n",
    "print(totalGrains)"
   ]
  },
  {
   "cell_type": "code",
   "execution_count": null,
   "metadata": {},
   "outputs": [],
   "source": []
  }
 ],
 "metadata": {
  "kernelspec": {
   "name": "python3",
   "display_name": "Python 3.9.0 64-bit",
   "metadata": {
    "interpreter": {
     "hash": "63fd5069d213b44bf678585dea6b12cceca9941eaf7f819626cde1f2670de90d"
    }
   }
  },
  "language_info": {
   "codemirror_mode": {
    "name": "ipython",
    "version": 3
   },
   "file_extension": ".py",
   "mimetype": "text/x-python",
   "name": "python",
   "nbconvert_exporter": "python",
   "pygments_lexer": "ipython3",
   "version": "3.9.0-final"
  }
 },
 "nbformat": 4,
 "nbformat_minor": 2
}