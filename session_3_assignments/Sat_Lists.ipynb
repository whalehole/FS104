{
 "cells": [
  {
   "cell_type": "markdown",
   "metadata": {},
   "source": [
    "# Exercise"
   ]
  },
  {
   "cell_type": "markdown",
   "metadata": {},
   "source": [
    "1. Which of the following would be the resulting list after inserting the value 50 at index 2?<br>\n",
    "            0: 35\n",
    "            1: 15\n",
    "            2: 45\n",
    "            3: 28\n",
    "\n",
    "        (a)  0: 35       (b)   0: 35        (c)  0: 50\n",
    "             1: 50             1: 15             1: 35\n",
    "             2: 15             2: 50             2: 15\n",
    "             3: 45             3: 45             3: 45\n",
    "             4: 28             4: 28             4: 28\n",
    "                                                       \n"
   ]
  },
  {
   "cell_type": "code",
   "execution_count": null,
   "metadata": {},
   "outputs": [],
   "source": [
    "# (b) is my final answer."
   ]
  },
  {
   "cell_type": "markdown",
   "metadata": {},
   "source": [
    "2. Lists and tuples must each contain at least one element. (TRUE/FALSE)\n"
   ]
  },
  {
   "cell_type": "code",
   "execution_count": null,
   "metadata": {},
   "outputs": [],
   "source": [
    "# FALSE"
   ]
  },
  {
   "cell_type": "markdown",
   "metadata": {},
   "source": [
    "3. For lst = [4, 2, 9, 1], what is the result of the following operation,\n",
    "lst.insert(2, 3)?<br>\n",
    "(a) [4, 2, 3, 9, 1] <br>        (b) [4, 3 ,2, 9, 1]      <br>     (c) [4, 2, 9, 2, 1]\n"
   ]
  },
  {
   "cell_type": "code",
   "execution_count": null,
   "metadata": {},
   "outputs": [],
   "source": [
    "# (a) is my answer. Yes, it is my final answer."
   ]
  },
  {
   "cell_type": "markdown",
   "metadata": {},
   "source": [
    "## Question 2"
   ]
  },
  {
   "cell_type": "markdown",
   "metadata": {},
   "source": [
    "**What Will Be The Output Of The Following Code Snippet? <br>\n",
    "a = [1,2,3,4,5] <br>\n",
    "a[0:4:2]**\n"
   ]
  },
  {
   "cell_type": "markdown",
   "metadata": {},
   "source": [
    "A. [1,3]\n",
    "\n",
    "B. [1,3,5]\n",
    "\n",
    "C. [2,4]\n"
   ]
  },
  {
   "cell_type": "code",
   "execution_count": null,
   "metadata": {},
   "outputs": [],
   "source": [
    "# a[0:4] = [1,2,3,4]\n",
    "# after step --> [1,3]\n",
    "# MY ANSWER IS A. "
   ]
  },
  {
   "cell_type": "markdown",
   "metadata": {},
   "source": [
    "## Question 3"
   ]
  },
  {
   "cell_type": "markdown",
   "metadata": {},
   "source": [
    "**Write a Python program to print a tuple with string formatting.**\n",
    "\n",
    "Sample tuple : (100, 200, 300)\n",
    "    \n",
    "Output : This is a tuple (100, 200, 300)"
   ]
  },
  {
   "cell_type": "code",
   "execution_count": 4,
   "metadata": {},
   "outputs": [
    {
     "output_type": "stream",
     "name": "stdout",
     "text": [
      "This is a tuple  (100, 200, 300)\n"
     ]
    }
   ],
   "source": [
    "sampleTuple = (100,200,300)\n",
    "print('This is a tuple ' + str(sampleTuple))"
   ]
  },
  {
   "cell_type": "markdown",
   "metadata": {},
   "source": [
    "4. What would be the range of index values for a list of 10 elements?<br>\n",
    "(a) 0–9 (b) 0–10 (c) 1–10\n"
   ]
  },
  {
   "cell_type": "code",
   "execution_count": null,
   "metadata": {},
   "outputs": [],
   "source": [
    "# (a), a range of only 10 elements will have a maximum index value of 9, therefore (c) is out. "
   ]
  },
  {
   "cell_type": "markdown",
   "metadata": {},
   "source": [
    "5. Which of the following sequence types is a mutable type?<br>\n",
    "(a) strings (b) lists (c) tuples  "
   ]
  },
  {
   "cell_type": "code",
   "execution_count": null,
   "metadata": {},
   "outputs": [],
   "source": [
    "# The answer is (b)"
   ]
  }
 ],
 "metadata": {
  "kernelspec": {
   "name": "python3",
   "display_name": "Python 3.9.0 64-bit",
   "metadata": {
    "interpreter": {
     "hash": "63fd5069d213b44bf678585dea6b12cceca9941eaf7f819626cde1f2670de90d"
    }
   }
  },
  "language_info": {
   "codemirror_mode": {
    "name": "ipython",
    "version": 3
   },
   "file_extension": ".py",
   "mimetype": "text/x-python",
   "name": "python",
   "nbconvert_exporter": "python",
   "pygments_lexer": "ipython3",
   "version": "3.9.0-final"
  }
 },
 "nbformat": 4,
 "nbformat_minor": 2
}