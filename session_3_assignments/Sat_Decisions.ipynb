{
 "cells": [
  {
   "cell_type": "markdown",
   "metadata": {},
   "source": [
    "# Exercises"
   ]
  },
  {
   "cell_type": "markdown",
   "metadata": {},
   "source": [
    "## Question 1"
   ]
  },
  {
   "cell_type": "markdown",
   "metadata": {},
   "source": [
    "**Write a program that takes input of number from user and checks whether number is positive or negative.**"
   ]
  },
  {
   "cell_type": "code",
   "execution_count": 12,
   "metadata": {},
   "outputs": [
    {
     "output_type": "stream",
     "name": "stdout",
     "text": [
      "<class 'int'>\nYour number is negative.\n"
     ]
    }
   ],
   "source": [
    "numInput = int(input('Provide a negative or positive integer: '))\n",
    "print(type(numInput))\n",
    "if numInput >= 0:\n",
    "    print('Your number is positive.')\n",
    "elif numInput < 0:\n",
    "    print('Your number is negative.')"
   ]
  },
  {
   "cell_type": "markdown",
   "metadata": {},
   "source": [
    "## Question 2"
   ]
  },
  {
   "cell_type": "markdown",
   "metadata": {},
   "source": [
    "**Write a program that inputs a number from user and checks whether number is even or odd.**"
   ]
  },
  {
   "cell_type": "code",
   "execution_count": 16,
   "metadata": {},
   "outputs": [
    {
     "output_type": "stream",
     "name": "stdout",
     "text": [
      "Your number is even.\n"
     ]
    }
   ],
   "source": [
    "numInput = int(input('Provide any number: '))\n",
    "if numInput%2 == 0:\n",
    "    print('Your number is even.')\n",
    "else:\n",
    "    print('Your numerb is odd.')"
   ]
  },
  {
   "cell_type": "markdown",
   "metadata": {},
   "source": [
    "## Question 3"
   ]
  },
  {
   "cell_type": "markdown",
   "metadata": {},
   "source": [
    "**Write a program that finds greatest among three numbers. <br> And output print with \"The largest number is (output)\"**"
   ]
  },
  {
   "cell_type": "code",
   "execution_count": 26,
   "metadata": {},
   "outputs": [
    {
     "output_type": "stream",
     "name": "stdout",
     "text": [
      "5\n"
     ]
    }
   ],
   "source": [
    "listOfNumbers = [3,4,5,4,3,2,1]\n",
    "largestNumber = 0\n",
    "for x in listOfNumbers:\n",
    "    if x >= largestNumber:\n",
    "        largestNumber = x\n",
    "print(largestNumber)"
   ]
  },
  {
   "cell_type": "markdown",
   "metadata": {},
   "source": [
    "## Question 4"
   ]
  },
  {
   "cell_type": "markdown",
   "metadata": {},
   "source": [
    "**You’re on a long car trip and arrive at a gas station. The next gas station is 200km away.\n",
    "Write a program to figure out if you need to buy gas here, or if you can wait for the\n",
    "next station. <br><br>\n",
    "The condition to buy gas here is if car is able to run at least 200km more <br><br>\n",
    "Ask user for input: How many litres of gas left in tank? How many km/litre is your car? <br>\n",
    "Hint: Calculate the distance your car can still run with remaining gas**\n"
   ]
  },
  {
   "cell_type": "code",
   "execution_count": 34,
   "metadata": {},
   "outputs": [
    {
     "output_type": "stream",
     "name": "stdout",
     "text": [
      "Target location is 200 km away.\nYour maximum travel distance is 1.0 km.\nNot enough gas. You must abandon mission or face dire consequences.\n"
     ]
    }
   ],
   "source": [
    "remainingGas = int(input('How many litres of gas left in tank?: '))\n",
    "rate = int(input('Rate of gas usage (in km/litre): '))\n",
    "targetLocation = 200\n",
    "print('Target location is', 200, 'km away.')\n",
    "print('Your maximum travel distance is', remainingGas/rate, 'km.')\n",
    "if remainingGas/rate > targetLocation:\n",
    "    print('You have enough gas for the journey.')\n",
    "else:\n",
    "    print('Not enough gas. You must abandon mission or prepare to face dire consequences.')"
   ]
  },
  {
   "cell_type": "markdown",
   "metadata": {},
   "source": [
    "## Question 5"
   ]
  },
  {
   "cell_type": "markdown",
   "metadata": {},
   "source": [
    "**A soccer team is looking for girls from ages 10 to 12 to play on their team. Write a program to ask the user’s age and whether the user is male or female (using “m” or “f”). Display a message indicating whether the person is eligible to play on the team.\n",
    "Bonus: Make the program so that it doesn’t ask for the age unless the user is a girl.**"
   ]
  },
  {
   "cell_type": "code",
   "execution_count": 8,
   "metadata": {},
   "outputs": [
    {
     "output_type": "stream",
     "name": "stdout",
     "text": [
      "You are not eligible, you pervert.\n"
     ]
    }
   ],
   "source": [
    "applicantGender = input('What is your gender? (m/f): ')\n",
    "applicantAge = None\n",
    "if applicantGender == 'f':\n",
    "    applicantAge = int(input('What is your age?: '))\n",
    "    if applicantAge >= 10 and applicantAge <= 12:\n",
    "        print('You are eligible.')\n",
    "    elif applicantAge > 12:\n",
    "        print('You are not eligible, come back again when you are younger.')\n",
    "    else:\n",
    "        print('You are not eligible, go back to mummy.')\n",
    "else:\n",
    "    print('You are not eligible, you pervert.')"
   ]
  },
  {
   "cell_type": "markdown",
   "metadata": {},
   "source": [
    "## Question 6"
   ]
  },
  {
   "cell_type": "markdown",
   "metadata": {},
   "source": [
    "**Write a program that prompts the user to enter a weight in kilograms and height in metres and then displays the BMI as well as below interpreations.** \n",
    "\n",
    "**If BMI is Below $18.5$, it is interpreted as Underweight. <br>\n",
    "If BMI is from $18.5–24.9$, it is interpreted as Normal. <br>\n",
    "If BMI is from $25.0–29.9$, it is interpreted as Overweight. <br>\n",
    "else If BMI is Above $30.0$, it is interpreted as Obese.**\n"
   ]
  },
  {
   "cell_type": "code",
   "execution_count": 17,
   "metadata": {},
   "outputs": [
    {
     "output_type": "stream",
     "name": "stdout",
     "text": [
      "Your BMI is 18.312854442344044.\nYou are underweight.\n"
     ]
    }
   ],
   "source": [
    "userWeight = float(input('Your weight (kg): '))\n",
    "userHeight = float(input('Your height (m): '))\n",
    "print('Your BMI is', str(userWeight/(userHeight**2)) + '.')\n",
    "if userWeight/(userHeight**2) < 18.5:\n",
    "    print('You are underweight.')\n",
    "elif userWeight/(userHeight**2) >= 18.5 and userWeight/(userHeight**2) <= 24.9:\n",
    "    print('Your weight is normal.')\n",
    "elif userWeight/(userHeight**2) >= 25.0 and userWeight/(userHeight**2) <= 29.9:\n",
    "    print('You are overweight.')\n",
    "else:\n",
    "    print('You are obese!')\n",
    "    "
   ]
  },
  {
   "cell_type": "markdown",
   "metadata": {},
   "source": [
    "## Question 7"
   ]
  },
  {
   "cell_type": "markdown",
   "metadata": {},
   "source": [
    "**Write a program in which user enters one number and knows whether it is divisible by 7 (ie. remainder 0 when divide by 7) and is not a multiple of 5.**"
   ]
  },
  {
   "cell_type": "code",
   "execution_count": 20,
   "metadata": {},
   "outputs": [
    {
     "output_type": "stream",
     "name": "stdout",
     "text": [
      "Do you know math??\n"
     ]
    }
   ],
   "source": [
    "enteredNumber = int(input('Pick an integer: '))\n",
    "if enteredNumber%7 == 0 and enteredNumber%5 != 0:\n",
    "    print('Your number is a multiple of 7, but not a multiple of 5.')\n",
    "else:\n",
    "    print('Do you know math??')"
   ]
  },
  {
   "cell_type": "code",
   "execution_count": null,
   "metadata": {},
   "outputs": [],
   "source": []
  }
 ],
 "metadata": {
  "kernelspec": {
   "name": "python3",
   "display_name": "Python 3.9.0 64-bit",
   "metadata": {
    "interpreter": {
     "hash": "63fd5069d213b44bf678585dea6b12cceca9941eaf7f819626cde1f2670de90d"
    }
   }
  },
  "language_info": {
   "codemirror_mode": {
    "name": "ipython",
    "version": 3
   },
   "file_extension": ".py",
   "mimetype": "text/x-python",
   "name": "python",
   "nbconvert_exporter": "python",
   "pygments_lexer": "ipython3",
   "version": "3.9.0-final"
  }
 },
 "nbformat": 4,
 "nbformat_minor": 2
}