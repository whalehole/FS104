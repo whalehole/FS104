{
 "metadata": {
  "language_info": {
   "codemirror_mode": {
    "name": "ipython",
    "version": 3
   },
   "file_extension": ".py",
   "mimetype": "text/x-python",
   "name": "python",
   "nbconvert_exporter": "python",
   "pygments_lexer": "ipython3",
   "version": "3.9.0-final"
  },
  "orig_nbformat": 2,
  "kernelspec": {
   "name": "python3",
   "display_name": "Python 3.9.0 64-bit",
   "metadata": {
    "interpreter": {
     "hash": "63fd5069d213b44bf678585dea6b12cceca9941eaf7f819626cde1f2670de90d"
    }
   }
  }
 },
 "nbformat": 4,
 "nbformat_minor": 2,
 "cells": [
  {
   "cell_type": "code",
   "execution_count": 24,
   "metadata": {},
   "outputs": [],
   "source": [
    "# create a file and write\n"
   ]
  },
  {
   "cell_type": "code",
   "execution_count": 1,
   "metadata": {},
   "outputs": [],
   "source": [
    "# write something to the file\n",
    "\n",
    "def write_to_file(text):\n",
    "    file_object = open(\"testfile.txt\", \"w\")\n",
    "    file_object.write(text)\n",
    "    file_object.close()\n",
    "\n",
    "write_to_file(str(input(\"Enter text here.\")))"
   ]
  },
  {
   "cell_type": "code",
   "execution_count": 3,
   "metadata": {},
   "outputs": [],
   "source": [
    "# append text to a file\n",
    "\n",
    "def append_to_file(text):\n",
    "    file_object = open(\"testfile2.txt\", \"a\")\n",
    "    file_object.write(text)\n",
    "    file_object.close()\n",
    "\n",
    "append_to_file(\" ITS ME AGAIN!!!\")"
   ]
  },
  {
   "cell_type": "code",
   "execution_count": 7,
   "metadata": {},
   "outputs": [
    {
     "output_type": "stream",
     "name": "stdout",
     "text": [
      " ITS ME AGAIN!!! ITS ME AGAIN!!!\n"
     ]
    }
   ],
   "source": [
    "# readiung a file\n",
    "\n",
    "file_object = open(\"testfile2.txt\", \"r\")\n",
    "content = file_object.read()\n",
    "print(content)\n",
    "file_object.close()"
   ]
  },
  {
   "cell_type": "code",
   "execution_count": 11,
   "metadata": {},
   "outputs": [
    {
     "output_type": "stream",
     "name": "stdout",
     "text": [
      "{'name': 'Vaibhav', 'languages': ['English', 'Hindi']}\n['English', 'Hindi']\n"
     ]
    }
   ],
   "source": [
    "# json loads\n",
    "\n",
    "import json\n",
    "\n",
    "person = '{\"name\": \"Vaibhav\", \"languages\": [\"English\", \"Hindi\"]}'\n",
    "person_dict = json.loads(person)\n",
    "\n",
    "print(person_dict)\n",
    "\n",
    "print(person_dict['languages'])\n"
   ]
  },
  {
   "cell_type": "code",
   "execution_count": 9,
   "metadata": {},
   "outputs": [
    {
     "output_type": "stream",
     "name": "stdout",
     "text": [
      "{\"name\": \"Vaibhav\", \"age\": 35, \"children\": null} <class 'str'>\n{'name': 'Vaibhav', 'age': 35, 'children': None} <class 'dict'>\n{'name': 'Vaibhav', 'age': 35, 'children': None} <class 'str'>\n"
     ]
    }
   ],
   "source": [
    "# json dumps\n",
    "\n",
    "#dict to json\n",
    "import json\n",
    "\n",
    "person_dict = {'name': 'Vaibhav',\n",
    "'age': 35,\n",
    "'children': None\n",
    "}\n",
    "person_json = json.dumps(person_dict)\n",
    "person_str = str(person_dict)\n",
    "\n",
    "\n",
    "print(person_json, type(person_json)) # str\n",
    "print(person_dict, type(person_dict)) # dict\n",
    "print(person_str, type(person_str)) # str"
   ]
  },
  {
   "cell_type": "code",
   "execution_count": null,
   "metadata": {},
   "outputs": [],
   "source": [
    "# json dump\n",
    "\n",
    "#json to a file\n",
    "\n",
    "import json\n",
    "\n",
    "person_dict = {\"name\": \"Vaibhav\",\n",
    "\"languages\": [\"English\", \"Hindi\"],\n",
    "\"married\": True,\n",
    "\"age\": 35\n",
    "}\n",
    "\n",
    "with open('person.txt', 'w') as json_file:\n",
    "  json.dump(person_dict, json_file)\n"
   ]
  },
  {
   "cell_type": "code",
   "execution_count": 8,
   "metadata": {},
   "outputs": [],
   "source": [
    "# json dump my own practice\n",
    "\n",
    "import json\n",
    "person_info = {\"name\": \"Yong San\", \"age\": 29, \"race\": \"Chinese\"}\n",
    "with open('person.json', 'w') as json_file:\n",
    "    json.dump(person_info, json_file) \n"
   ]
  },
  {
   "cell_type": "code",
   "execution_count": 9,
   "metadata": {},
   "outputs": [
    {
     "output_type": "stream",
     "name": "stdout",
     "text": [
      "29 <class 'dict'>\n"
     ]
    }
   ],
   "source": [
    "#json load my own practice\n",
    "\n",
    "import json\n",
    "json_file = open('person.json', 'r+')\n",
    "person_new = json.load(json_file)\n",
    "json_file.close()\n",
    "print(person_new['age'], type(person_new)) # 29 <class 'dict'>\n"
   ]
  },
  {
   "cell_type": "code",
   "execution_count": 17,
   "metadata": {},
   "outputs": [
    {
     "output_type": "stream",
     "name": "stdout",
     "text": [
      "{'name': 'Yong San', 'age': 29, 'race': 'Chinese'} <class 'dict'>\n{\"name\": \"Yong San\", \"age\": 29, \"race\": \"Chinese\"} <class 'str'>\n{'name': 'Yong San', 'age': 29, 'race': 'Chinese'} <class 'dict'>\n"
     ]
    }
   ],
   "source": [
    "#json loads my own practice\n",
    "\n",
    "import json\n",
    "json_file = open('person.json', 'r+')\n",
    "#load\n",
    "loading_person = json.load(json_file)\n",
    "print(loading_person, type(loading_person))\n",
    "#dumps\n",
    "dumpings_person = json.dumps(loading_person)\n",
    "print(dumpings_person, type(dumpings_person))\n",
    "#loads\n",
    "loadings_person = json.loads(dumpings_person)\n",
    "print(loadings_person, type(loadings_person))\n",
    "json_file.close()\n",
    "#dump\n",
    "with open('sameperson.json', 'w+') as json_file:\n",
    "    json.dump(loadings_person, json_file)\n",
    "\n",
    "\n"
   ]
  },
  {
   "cell_type": "code",
   "execution_count": null,
   "metadata": {},
   "outputs": [],
   "source": []
  }
 ]
}