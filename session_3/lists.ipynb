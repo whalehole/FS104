{
 "metadata": {
  "language_info": {
   "codemirror_mode": {
    "name": "ipython",
    "version": 3
   },
   "file_extension": ".py",
   "mimetype": "text/x-python",
   "name": "python",
   "nbconvert_exporter": "python",
   "pygments_lexer": "ipython3",
   "version": "3.9.0-final"
  },
  "orig_nbformat": 2,
  "kernelspec": {
   "name": "python3",
   "display_name": "Python 3.9.0 64-bit",
   "metadata": {
    "interpreter": {
     "hash": "63fd5069d213b44bf678585dea6b12cceca9941eaf7f819626cde1f2670de90d"
    }
   }
  }
 },
 "nbformat": 4,
 "nbformat_minor": 2,
 "cells": [
  {
   "cell_type": "code",
   "execution_count": 2,
   "metadata": {},
   "outputs": [
    {
     "output_type": "stream",
     "name": "stdout",
     "text": [
      "[]\n<class 'list'>\n"
     ]
    }
   ],
   "source": [
    "# Creating a list\n",
    "\n",
    "list = []\n",
    "print(list)\n",
    "print(type(list))"
   ]
  },
  {
   "cell_type": "code",
   "execution_count": 3,
   "metadata": {},
   "outputs": [
    {
     "output_type": "stream",
     "name": "stdout",
     "text": [
      "[] ['Yong San', 'San Yong'] [19, 1991]\n"
     ]
    }
   ],
   "source": [
    "# Creating 3 lists\n",
    "\n",
    "L1, L2, L3 = [], [\"Yong San\", \"San Yong\"], [19, 1991]\n",
    "print(L1, L2, L3)"
   ]
  },
  {
   "cell_type": "code",
   "execution_count": 13,
   "metadata": {},
   "outputs": [
    {
     "output_type": "stream",
     "name": "stdout",
     "text": [
      "<class 'list'> ['Yong San', 19, 'February']\n20\n['Yong San', 19, 'February']\n"
     ]
    }
   ],
   "source": [
    "# Creating a list \n",
    "\n",
    "D1, D2, D3 = \"Yong San\", 19, \"February\"\n",
    "L1 = [D1, D2, D3]\n",
    "print(type(L1), L1)\n",
    "D2 = 20\n",
    "print(D2)\n",
    "print(L1)\n"
   ]
  },
  {
   "cell_type": "code",
   "execution_count": 7,
   "metadata": {},
   "outputs": [
    {
     "output_type": "stream",
     "name": "stdout",
     "text": [
      "[0, 1, 2, 3, 4]\n"
     ]
    }
   ],
   "source": [
    " # theList = [iter for iter in range(5)]\n",
    "\n",
    "theList = [iter for iter in range(5)]\n",
    "print(theList)"
   ]
  },
  {
   "cell_type": "code",
   "execution_count": null,
   "metadata": {},
   "outputs": [],
   "source": [
    "# creating a list using list()"
   ]
  },
  {
   "cell_type": "code",
   "execution_count": 14,
   "metadata": {},
   "outputs": [
    {
     "output_type": "stream",
     "name": "stdout",
     "text": [
      "['I', 'A', 'E', 'G', 'B', 'V']\n"
     ]
    }
   ],
   "source": [
    "listofCountries = [\"India\",\"America\",\"England\",\"Germany\",\"Brazil\",\"Vietnam\"]\n",
    "lettes = [\"I\", \"A\"]\n",
    "firstLetters = [ country[0] for country in listofCountries ]\n",
    "\n",
    "#get the list of countries\n",
    "#iterate over the list using the for loop\n",
    "#read each element of the list, e.g. firt element would be India\n",
    "#country = India\n",
    "#Get the first element of the string, country which I\n",
    "#store this value inside the list firstletters\n",
    "print(firstLetters)\n",
    "country = \"India\"\n",
    "\n",
    "#print letters of the string sequentially\n"
   ]
  },
  {
   "cell_type": "code",
   "execution_count": 15,
   "metadata": {},
   "outputs": [
    {
     "output_type": "stream",
     "name": "stdout",
     "text": [
      "[1, 2, 3, 4]\n"
     ]
    }
   ],
   "source": [
    "# adding lists\n",
    "\n",
    "L1, L2 = [1,2], [3,4]\n",
    "print(L1 + L2)"
   ]
  },
  {
   "cell_type": "code",
   "execution_count": 24,
   "metadata": {},
   "outputs": [
    {
     "output_type": "stream",
     "name": "stdout",
     "text": [
      "[1, 2, 3, 4]\n"
     ]
    },
    {
     "output_type": "execute_result",
     "data": {
      "text/plain": [
       "[1, 2, 3, 4, [3, 4]]"
      ]
     },
     "metadata": {},
     "execution_count": 24
    }
   ],
   "source": [
    "# extending lists\n",
    "\n",
    "L1, L2 = [1,2], [3,4]\n",
    "L1.extend(L2)\n",
    "print(L1)\n",
    "L1.append(L2)\n",
    "L1"
   ]
  },
  {
   "cell_type": "code",
   "execution_count": 23,
   "metadata": {},
   "outputs": [
    {
     "output_type": "stream",
     "name": "stdout",
     "text": [
      "[1, 2, 3, 4, [0, 0], [0, 0], [0, 0], [0, 0], [0, 0]]\n"
     ]
    }
   ],
   "source": [
    "# appending lists not the same as extending \n",
    "L3 = [0,0]\n",
    "L1.append(L3)\n",
    "L1\n",
    "print(L1)"
   ]
  },
  {
   "cell_type": "code",
   "execution_count": 25,
   "metadata": {},
   "outputs": [
    {
     "output_type": "stream",
     "name": "stdout",
     "text": [
      "2 6\n"
     ]
    }
   ],
   "source": [
    "listofnumbers = [1,2,4,5,6,0]\n",
    "#find the number at 2nd position of the list\n",
    "#find the number at 5th position of the list\n",
    "\n",
    "print(listofnumbers[1], listofnumbers[4])"
   ]
  },
  {
   "cell_type": "code",
   "execution_count": 26,
   "metadata": {},
   "outputs": [
    {
     "output_type": "execute_result",
     "data": {
      "text/plain": [
       "[1, 2, 19, 4, 5, 6, 0]"
      ]
     },
     "metadata": {},
     "execution_count": 26
    }
   ],
   "source": [
    "# inserting element to the list\n",
    "\n",
    "newlistofnumbers = listofnumbers\n",
    "newlistofnumbers.insert(2, 19)\n",
    "newlistofnumbers\n"
   ]
  },
  {
   "cell_type": "code",
   "execution_count": 36,
   "metadata": {},
   "outputs": [
    {
     "output_type": "execute_result",
     "data": {
      "text/plain": [
       "[1, 4]"
      ]
     },
     "metadata": {},
     "execution_count": 36
    }
   ],
   "source": [
    "# slicing\n",
    "listofnumbers2 = [1,2,3,4,5,6,7,8,9,10]\n",
    "listofnumbers2[0:4:3]\n"
   ]
  },
  {
   "cell_type": "code",
   "execution_count": 38,
   "metadata": {},
   "outputs": [
    {
     "output_type": "stream",
     "name": "stdout",
     "text": [
      "what the hell is going on\nwhat the hell is going on\nwhat the hell is going on\nah i see it now\n"
     ]
    }
   ],
   "source": [
    "# for loop \n",
    "\n",
    "for i in [1,2,3]: \n",
    "    print(\"what the hell is going on\")\n",
    "    if i == 3:\n",
    "        print(\"ah i see it now\")"
   ]
  },
  {
   "cell_type": "code",
   "execution_count": 43,
   "metadata": {},
   "outputs": [
    {
     "output_type": "stream",
     "name": "stdout",
     "text": [
      "['S', 'M', 'D']\n"
     ]
    }
   ],
   "source": [
    "# for loop again\n",
    "\n",
    "newlistofcountries = [\"Singapore\", \"Malaysia\", \"Darnassus\"]\n",
    "countrieslist = [country[0] for country in newlistofcountries]\n",
    "print(countrieslist)"
   ]
  },
  {
   "cell_type": "code",
   "execution_count": null,
   "metadata": {},
   "outputs": [],
   "source": [
    "# create sets using set()"
   ]
  },
  {
   "cell_type": "code",
   "execution_count": 45,
   "metadata": {},
   "outputs": [
    {
     "output_type": "stream",
     "name": "stdout",
     "text": [
      "{1, 2, 3, 4, 5, 19}\n"
     ]
    },
    {
     "output_type": "execute_result",
     "data": {
      "text/plain": [
       "{1, 2, 3, 4, 5}"
      ]
     },
     "metadata": {},
     "execution_count": 45
    }
   ],
   "source": [
    "# toying with sets\n",
    "\n",
    "set1 = {1,2,3,4,5,19}\n",
    "print(set1)\n",
    "set1.remove(19)\n",
    "set1"
   ]
  },
  {
   "cell_type": "code",
   "execution_count": null,
   "metadata": {},
   "outputs": [],
   "source": [
    "# unions using &"
   ]
  },
  {
   "cell_type": "code",
   "execution_count": null,
   "metadata": {},
   "outputs": [],
   "source": [
    "# range"
   ]
  },
  {
   "cell_type": "code",
   "execution_count": null,
   "metadata": {},
   "outputs": [],
   "source": [
    "# continue (for while and for loop)"
   ]
  },
  {
   "cell_type": "code",
   "execution_count": 46,
   "metadata": {},
   "outputs": [
    {
     "output_type": "stream",
     "name": "stdout",
     "text": [
      "Initial setA: {'e', 'i', 'h', 'u', 'o', 'g', 'a'} size: 7\nInitial setB: {'e', 'z', 'b', 't', 'o', 'u', 'a'} size: 7\n(setA & setB): {'u', 'e', 'a', 'o'} size: 4\nIs 'apple' in the basket? True\nIs 'watermelon' in the basket? False\n"
     ]
    }
   ],
   "source": [
    "# Python intersection example using the & operator\n",
    "setA = {'a', 'e', 'i', 'o', 'u', 'g', 'h'}\n",
    "setB = {'a', 'e', 'z', 'b', 't', 'o', 'u'}\n",
    "\n",
    "print(\"Initial setA:\", setA, \"size:\", len(setA))\n",
    "print(\"Initial setB:\", setB, \"size:\", len(setB))\n",
    "\n",
    "print(\"(setA & setB):\", setA & setB, \"size:\", len(setA & setB))\n",
    "# Python set example to test elements in a set\n",
    "basket = set([\"apple\", \"mango\", \"banana\", \"grapes\", \"orange\"])\n",
    "\n",
    "# confirm if 'apple' is in the basket\n",
    "print(\"Is 'apple' in the basket?\", 'apple' in basket)\n",
    "\n",
    "# confirm if 'grapes' is in the basket\n",
    "print(\"Is 'watermelon' in the basket?\", 'watermelon' in basket)\n"
   ]
  },
  {
   "cell_type": "code",
   "execution_count": 57,
   "metadata": {},
   "outputs": [
    {
     "output_type": "stream",
     "name": "stdout",
     "text": [
      "<class 'tuple'>\n"
     ]
    },
    {
     "output_type": "execute_result",
     "data": {
      "text/plain": [
       "(66,)"
      ]
     },
     "metadata": {},
     "execution_count": 57
    }
   ],
   "source": [
    "# trying out single valued tuple\n",
    "\n",
    "py_tuple = 66,\n",
    "print(type(py_tuple))\n",
    "py_tuple"
   ]
  },
  {
   "cell_type": "code",
   "execution_count": 63,
   "metadata": {},
   "outputs": [
    {
     "output_type": "stream",
     "name": "stdout",
     "text": [
      "Berry 12\n{'Student Name': 'Berry', 'Roll No.': 12, 'Subject': 'English', 'Number of girlfriends': '5'}\nEnglish\nNone\n{'Student Name': 'Berry', 'Roll No.': 12, 'Subject': 'English', 'Number of girlfriends': '5'}\n"
     ]
    }
   ],
   "source": [
    "# creating dictionary\n",
    "\n",
    "dict = {'Student Name': 'Berry', 'Roll No.': 12, 'Subject': 'English'}\n",
    "\n",
    "print(dict['Student Name'], dict['Roll No.'])\n",
    "\n",
    "dict[\"Number of girlfriends\"] = \"5\"\n",
    "\n",
    "print(dict)\n",
    "\n",
    "print(dict.get('Subject'))\n",
    "\n",
    "print(dict.get('Number of boyfriends'))\n",
    "\n",
    "print(dict)  \n"
   ]
  },
  {
   "cell_type": "code",
   "execution_count": 64,
   "metadata": {},
   "outputs": [
    {
     "output_type": "execute_result",
     "data": {
      "text/plain": [
       "{}"
      ]
     },
     "metadata": {},
     "execution_count": 64
    }
   ],
   "source": [
    "# clearing dictionary\n",
    "\n",
    "dict.clear()\n",
    "\n",
    "dict"
   ]
  },
  {
   "cell_type": "code",
   "execution_count": 69,
   "metadata": {},
   "outputs": [
    {
     "output_type": "stream",
     "name": "stdout",
     "text": [
      "Student Name Berry\nRoll No. 12\nSubject English\n"
     ]
    }
   ],
   "source": [
    "dict = {'Student Name': 'Berry', 'Roll No.': 12, 'Subject': 'English'}\n",
    "for k in dict:\n",
    "    print(k, dict[k])\n"
   ]
  },
  {
   "cell_type": "code",
   "execution_count": null,
   "metadata": {},
   "outputs": [],
   "source": []
  }
 ]
}