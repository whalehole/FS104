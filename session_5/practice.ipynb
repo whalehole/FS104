{
 "metadata": {
  "language_info": {
   "codemirror_mode": {
    "name": "ipython",
    "version": 3
   },
   "file_extension": ".py",
   "mimetype": "text/x-python",
   "name": "python",
   "nbconvert_exporter": "python",
   "pygments_lexer": "ipython3",
   "version": "3.9.0-final"
  },
  "orig_nbformat": 2,
  "kernelspec": {
   "name": "python3",
   "display_name": "Python 3.9.0 64-bit",
   "metadata": {
    "interpreter": {
     "hash": "63fd5069d213b44bf678585dea6b12cceca9941eaf7f819626cde1f2670de90d"
    }
   }
  }
 },
 "nbformat": 4,
 "nbformat_minor": 2,
 "cells": [
  {
   "cell_type": "code",
   "execution_count": null,
   "metadata": {},
   "outputs": [],
   "source": [
    "# add two numbers\n",
    "\n",
    "def add(a,b):\n",
    "    if type(a) == int and type(b) == int:\n",
    "        return a + b\n",
    "    else:\n",
    "        print('Please choose integers for your numbers.')\n"
   ]
  },
  {
   "cell_type": "code",
   "execution_count": null,
   "metadata": {},
   "outputs": [],
   "source": [
    "# concatenate two strings\n",
    "\n",
    "def addString(a,b):\n",
    "    newString = str(a) + str(b)\n",
    "    print(newString)\n",
    "    return newString\n",
    "    "
   ]
  },
  {
   "cell_type": "code",
   "execution_count": null,
   "metadata": {},
   "outputs": [],
   "source": [
    "# print hello\n",
    "\n",
    "def printHello():\n",
    "    print('Hello')\n",
    "    "
   ]
  },
  {
   "cell_type": "code",
   "execution_count": 1,
   "metadata": {},
   "outputs": [
    {
     "output_type": "stream",
     "name": "stdout",
     "text": [
      "hello moon\nmy destination -  moon\n"
     ]
    }
   ],
   "source": [
    "# class\n",
    "\n",
    "class Apollo:\n",
    "    #variables\n",
    "    destination = \"moon\"\n",
    "    #member functions / behavior\n",
    "    def printhello(self):\n",
    "        print(\"hello moon\")\n",
    "    def get_destination(self):\n",
    "        print(\"my destination - \", self.destination)\n",
    "\n",
    "apollo1 = Apollo()\n",
    "apollo1.printhello()\n",
    "apollo1.get_destination()\n"
   ]
  },
  {
   "cell_type": "code",
   "execution_count": 13,
   "metadata": {},
   "outputs": [
    {
     "output_type": "stream",
     "name": "stdout",
     "text": [
      "10\n"
     ]
    }
   ],
   "source": [
    "# lambda\n",
    "a = lambda x : x + 10\n",
    "print(a(5))\n"
   ]
  },
  {
   "cell_type": "code",
   "execution_count": 14,
   "metadata": {},
   "outputs": [
    {
     "output_type": "stream",
     "name": "stdout",
     "text": [
      "[-5, -4, -3, -2, -1]\n"
     ]
    }
   ],
   "source": [
    "# lambda filter\n",
    "\n",
    "mylist = range(-5, 5)\n",
    "negatives = filter(lambda x: x < 0, mylist)\n",
    "print(list(negatives))\n"
   ]
  },
  {
   "cell_type": "code",
   "execution_count": 42,
   "metadata": {},
   "outputs": [
    {
     "output_type": "stream",
     "name": "stdout",
     "text": [
      "[11, 12, 13, 14]\n"
     ]
    }
   ],
   "source": [
    "# lambda map\n",
    "\n",
    "a = [1,2,3,4]\n",
    "b = [10,10,10,10]\n",
    "c = map(lambda x,y:x+y, a,b)\n",
    "print(list(c))\n"
   ]
  },
  {
   "cell_type": "code",
   "execution_count": 50,
   "metadata": {},
   "outputs": [
    {
     "output_type": "stream",
     "name": "stdout",
     "text": [
      "[11, 12, 13, 14]\n"
     ]
    }
   ],
   "source": [
    "# Q: write a program to add the two arrays\n",
    "# result: [11,12,13,14]\n",
    "\n",
    "a = [1,2,3,4]\n",
    "b = [10,10,10,10]\n",
    "def newList(list1, list2):\n",
    "    newList = []\n",
    "    for x in range(len(list1)):\n",
    "        newList.append(list1[x] + list2[x])\n",
    "    return newList\n",
    "print(newList(a,b))"
   ]
  },
  {
   "cell_type": "code",
   "execution_count": null,
   "metadata": {},
   "outputs": [],
   "source": []
  }
 ]
}