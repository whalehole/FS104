{
 "metadata": {
  "language_info": {
   "codemirror_mode": {
    "name": "ipython",
    "version": 3
   },
   "file_extension": ".py",
   "mimetype": "text/x-python",
   "name": "python",
   "nbconvert_exporter": "python",
   "pygments_lexer": "ipython3",
   "version": "3.9.0-final"
  },
  "orig_nbformat": 2,
  "kernelspec": {
   "name": "python3",
   "display_name": "Python 3.9.0 64-bit",
   "metadata": {
    "interpreter": {
     "hash": "63fd5069d213b44bf678585dea6b12cceca9941eaf7f819626cde1f2670de90d"
    }
   }
  }
 },
 "nbformat": 4,
 "nbformat_minor": 2,
 "cells": [
  {
   "cell_type": "code",
   "execution_count": null,
   "metadata": {},
   "outputs": [],
   "source": [
    "class Animal:\n",
    "    def function():\n",
    "        return 5\n",
    "        "
   ]
  },
  {
   "cell_type": "code",
   "execution_count": 1,
   "metadata": {},
   "outputs": [
    {
     "output_type": "stream",
     "name": "stdout",
     "text": [
      "1 Vaibhav\n"
     ]
    }
   ],
   "source": [
    "class Employee: \n",
    "    employee_id = \"\"\n",
    "    employee_name = \"\"\n",
    "    def returnemployeeid(self, id, name):\n",
    "        employee_id = id\n",
    "        employee_name = name\n",
    "        print(employee_id, employee_name)\n",
    "\n",
    "\n",
    "employee1 = Employee()\n",
    "employee1.returnemployeeid(1, \"Vaibhav\")\n"
   ]
  },
  {
   "cell_type": "code",
   "execution_count": 2,
   "metadata": {},
   "outputs": [
    {
     "output_type": "stream",
     "name": "stdout",
     "text": [
      "Name: gab; Rank: cp; Salary: 10000\nName: vai; Rank: cp; Salary: 10000\nName: gab; Rank: cp; Salary: 10000\n"
     ]
    }
   ],
   "source": [
    "class Employee: \n",
    "    def __init__(self,name,rank,salary):\n",
    "        self.name = name\n",
    "        self.rank = rank\n",
    "        self.salary = salary\n",
    "        \n",
    "    def display_employee(self):\n",
    "        print(\"Name: {}; Rank: {}; Salary: {}\".format(self.name,self.rank,self.salary))\n",
    "        \n",
    "    def pay_raise(self, increment):\n",
    "        self.salary += increment\n",
    "    \n",
    "    def promo(self, new_rank):\n",
    "        self.rank = new_rank\n",
    "\n",
    "\n",
    "me = Employee(\"gab\",\"cp\",10000)\n",
    "me.display_employee()\n",
    "\n",
    "me1 = Employee(\"vai\",\"cp\",10000)\n",
    "me1.display_employee()\n",
    "\n",
    "me.display_employee()\n"
   ]
  },
  {
   "cell_type": "code",
   "execution_count": 2,
   "metadata": {},
   "outputs": [
    {
     "output_type": "stream",
     "name": "stdout",
     "text": [
      "15\n"
     ]
    }
   ],
   "source": [
    "def listAddition(list1):\n",
    "    sum = 0\n",
    "    for x in list1:\n",
    "        sum += x\n",
    "    print(sum)\n",
    "    \n",
    "list1 = [1,2,3,4,5]\n",
    "listAddition(list1)"
   ]
  },
  {
   "cell_type": "code",
   "execution_count": 3,
   "metadata": {},
   "outputs": [
    {
     "output_type": "stream",
     "name": "stdout",
     "text": [
      "range(0, 6)\n"
     ]
    }
   ],
   "source": [
    "print(range(6))"
   ]
  },
  {
   "cell_type": "code",
   "execution_count": null,
   "metadata": {},
   "outputs": [],
   "source": []
  }
 ]
}